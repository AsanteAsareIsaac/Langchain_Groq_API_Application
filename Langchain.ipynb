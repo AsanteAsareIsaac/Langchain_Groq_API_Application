{
  "nbformat": 4,
  "nbformat_minor": 0,
  "metadata": {
    "colab": {
      "provenance": [],
      "gpuType": "T4",
      "authorship_tag": "ABX9TyNjNHVCd8qXu6/5Y08wVbyT"
    },
    "kernelspec": {
      "name": "python3",
      "display_name": "Python 3"
    },
    "language_info": {
      "name": "python"
    },
    "accelerator": "GPU"
  },
  "cells": [
    {
      "cell_type": "code",
      "execution_count": null,
      "metadata": {
        "id": "gmMDibOM9ITH"
      },
      "outputs": [],
      "source": [
        "# conda env - llm_lcel"
      ]
    },
    {
      "cell_type": "code",
      "source": [
        "from google.colab import userdata\n",
        "groq_api_key = userdata.get('GROQ_API_KEY')"
      ],
      "metadata": {
        "id": "Zd9nLRUvAjvH"
      },
      "execution_count": 6,
      "outputs": []
    },
    {
      "cell_type": "code",
      "source": [
        "!pip install langchain_groq"
      ],
      "metadata": {
        "colab": {
          "base_uri": "https://localhost:8080/"
        },
        "id": "fllHU9dOAs-K",
        "outputId": "3c969002-70e5-4b3d-c04c-4bd953b32105"
      },
      "execution_count": 4,
      "outputs": [
        {
          "output_type": "stream",
          "name": "stdout",
          "text": [
            "Collecting langchain_groq\n",
            "  Downloading langchain_groq-0.2.1-py3-none-any.whl.metadata (2.9 kB)\n",
            "Collecting groq<1,>=0.4.1 (from langchain_groq)\n",
            "  Downloading groq-0.12.0-py3-none-any.whl.metadata (13 kB)\n",
            "Requirement already satisfied: langchain-core<0.4.0,>=0.3.15 in /usr/local/lib/python3.10/dist-packages (from langchain_groq) (0.3.17)\n",
            "Requirement already satisfied: anyio<5,>=3.5.0 in /usr/local/lib/python3.10/dist-packages (from groq<1,>=0.4.1->langchain_groq) (3.7.1)\n",
            "Requirement already satisfied: distro<2,>=1.7.0 in /usr/local/lib/python3.10/dist-packages (from groq<1,>=0.4.1->langchain_groq) (1.9.0)\n",
            "Requirement already satisfied: httpx<1,>=0.23.0 in /usr/local/lib/python3.10/dist-packages (from groq<1,>=0.4.1->langchain_groq) (0.27.2)\n",
            "Requirement already satisfied: pydantic<3,>=1.9.0 in /usr/local/lib/python3.10/dist-packages (from groq<1,>=0.4.1->langchain_groq) (2.9.2)\n",
            "Requirement already satisfied: sniffio in /usr/local/lib/python3.10/dist-packages (from groq<1,>=0.4.1->langchain_groq) (1.3.1)\n",
            "Requirement already satisfied: typing-extensions<5,>=4.7 in /usr/local/lib/python3.10/dist-packages (from groq<1,>=0.4.1->langchain_groq) (4.12.2)\n",
            "Requirement already satisfied: PyYAML>=5.3 in /usr/local/lib/python3.10/dist-packages (from langchain-core<0.4.0,>=0.3.15->langchain_groq) (6.0.2)\n",
            "Requirement already satisfied: jsonpatch<2.0,>=1.33 in /usr/local/lib/python3.10/dist-packages (from langchain-core<0.4.0,>=0.3.15->langchain_groq) (1.33)\n",
            "Requirement already satisfied: langsmith<0.2.0,>=0.1.125 in /usr/local/lib/python3.10/dist-packages (from langchain-core<0.4.0,>=0.3.15->langchain_groq) (0.1.142)\n",
            "Requirement already satisfied: packaging<25,>=23.2 in /usr/local/lib/python3.10/dist-packages (from langchain-core<0.4.0,>=0.3.15->langchain_groq) (24.2)\n",
            "Requirement already satisfied: tenacity!=8.4.0,<10.0.0,>=8.1.0 in /usr/local/lib/python3.10/dist-packages (from langchain-core<0.4.0,>=0.3.15->langchain_groq) (9.0.0)\n",
            "Requirement already satisfied: idna>=2.8 in /usr/local/lib/python3.10/dist-packages (from anyio<5,>=3.5.0->groq<1,>=0.4.1->langchain_groq) (3.10)\n",
            "Requirement already satisfied: exceptiongroup in /usr/local/lib/python3.10/dist-packages (from anyio<5,>=3.5.0->groq<1,>=0.4.1->langchain_groq) (1.2.2)\n",
            "Requirement already satisfied: certifi in /usr/local/lib/python3.10/dist-packages (from httpx<1,>=0.23.0->groq<1,>=0.4.1->langchain_groq) (2024.8.30)\n",
            "Requirement already satisfied: httpcore==1.* in /usr/local/lib/python3.10/dist-packages (from httpx<1,>=0.23.0->groq<1,>=0.4.1->langchain_groq) (1.0.6)\n",
            "Requirement already satisfied: h11<0.15,>=0.13 in /usr/local/lib/python3.10/dist-packages (from httpcore==1.*->httpx<1,>=0.23.0->groq<1,>=0.4.1->langchain_groq) (0.14.0)\n",
            "Requirement already satisfied: jsonpointer>=1.9 in /usr/local/lib/python3.10/dist-packages (from jsonpatch<2.0,>=1.33->langchain-core<0.4.0,>=0.3.15->langchain_groq) (3.0.0)\n",
            "Requirement already satisfied: orjson<4.0.0,>=3.9.14 in /usr/local/lib/python3.10/dist-packages (from langsmith<0.2.0,>=0.1.125->langchain-core<0.4.0,>=0.3.15->langchain_groq) (3.10.11)\n",
            "Requirement already satisfied: requests<3,>=2 in /usr/local/lib/python3.10/dist-packages (from langsmith<0.2.0,>=0.1.125->langchain-core<0.4.0,>=0.3.15->langchain_groq) (2.32.3)\n",
            "Requirement already satisfied: requests-toolbelt<2.0.0,>=1.0.0 in /usr/local/lib/python3.10/dist-packages (from langsmith<0.2.0,>=0.1.125->langchain-core<0.4.0,>=0.3.15->langchain_groq) (1.0.0)\n",
            "Requirement already satisfied: annotated-types>=0.6.0 in /usr/local/lib/python3.10/dist-packages (from pydantic<3,>=1.9.0->groq<1,>=0.4.1->langchain_groq) (0.7.0)\n",
            "Requirement already satisfied: pydantic-core==2.23.4 in /usr/local/lib/python3.10/dist-packages (from pydantic<3,>=1.9.0->groq<1,>=0.4.1->langchain_groq) (2.23.4)\n",
            "Requirement already satisfied: charset-normalizer<4,>=2 in /usr/local/lib/python3.10/dist-packages (from requests<3,>=2->langsmith<0.2.0,>=0.1.125->langchain-core<0.4.0,>=0.3.15->langchain_groq) (3.4.0)\n",
            "Requirement already satisfied: urllib3<3,>=1.21.1 in /usr/local/lib/python3.10/dist-packages (from requests<3,>=2->langsmith<0.2.0,>=0.1.125->langchain-core<0.4.0,>=0.3.15->langchain_groq) (2.2.3)\n",
            "Downloading langchain_groq-0.2.1-py3-none-any.whl (14 kB)\n",
            "Downloading groq-0.12.0-py3-none-any.whl (108 kB)\n",
            "\u001b[2K   \u001b[90m━━━━━━━━━━━━━━━━━━━━━━━━━━━━━━━━━━━━━━━━\u001b[0m \u001b[32m108.9/108.9 kB\u001b[0m \u001b[31m5.1 MB/s\u001b[0m eta \u001b[36m0:00:00\u001b[0m\n",
            "\u001b[?25hInstalling collected packages: groq, langchain_groq\n",
            "Successfully installed groq-0.12.0 langchain_groq-0.2.1\n"
          ]
        }
      ]
    },
    {
      "cell_type": "code",
      "source": [
        "# can go with open ai > but it is not free\n",
        "\n",
        "# To access opensource models\n",
        "from langchain_groq import ChatGroq\n",
        "\n",
        "model = ChatGroq(model=\"gemma2-9b-it\", groq_api_key=groq_api_key)\n",
        "model"
      ],
      "metadata": {
        "colab": {
          "base_uri": "https://localhost:8080/"
        },
        "id": "HzTWV9-f9ZZt",
        "outputId": "091d2fc8-e421-4cd0-f9ba-f60a82b937c5"
      },
      "execution_count": 7,
      "outputs": [
        {
          "output_type": "execute_result",
          "data": {
            "text/plain": [
              "ChatGroq(client=<groq.resources.chat.completions.Completions object at 0x7ccff0214100>, async_client=<groq.resources.chat.completions.AsyncCompletions object at 0x7ccff02171c0>, model_name='gemma2-9b-it', model_kwargs={}, groq_api_key=SecretStr('**********'))"
            ]
          },
          "metadata": {},
          "execution_count": 7
        }
      ]
    },
    {
      "cell_type": "markdown",
      "source": [
        "# Human and system message"
      ],
      "metadata": {
        "id": "gMw1QCMO9gx9"
      }
    },
    {
      "cell_type": "code",
      "source": [
        "from langchain.schema import HumanMessage, SystemMessage\n",
        "\n",
        "messages = [\n",
        "    SystemMessage(content=\"You are a helpful and knowledgeable healthcare assistant. You provide information and support for health-related concerns. You offer insights, suggestions, and potential considerations, empowering users to make informed decisions about their well-being. Emphasize the importance of seeking guidance from qualified healthcare professionals for personalized advice and treatment.\"),\n",
        "    HumanMessage(content=\"I'm having a headache, could you please help me?\")\n",
        "]\n",
        "\n",
        "result = model.invoke(messages)\n"
      ],
      "metadata": {
        "id": "nvZ4mN719loG"
      },
      "execution_count": 9,
      "outputs": []
    },
    {
      "cell_type": "code",
      "source": [
        "result"
      ],
      "metadata": {
        "colab": {
          "base_uri": "https://localhost:8080/"
        },
        "id": "F42bGBnH-qYV",
        "outputId": "af9d5a99-2c38-4f8a-e5c6-d195dee84a67"
      },
      "execution_count": 10,
      "outputs": [
        {
          "output_type": "execute_result",
          "data": {
            "text/plain": [
              "AIMessage(content=\"I understand you're having a headache, and I'm sorry to hear that. While I can offer some general information, I'm not a medical professional and can't diagnose or treat your headache. \\n\\nThere are many reasons why someone might experience a headache, ranging from mild dehydration to more serious underlying conditions. \\n\\n**Here are some things to consider:**\\n\\n* **Severity and Location:** Is the headache mild, moderate, or severe? Where is it located? \\n* **Duration:** How long has the headache been going on? \\n* **Other Symptoms:** Are you experiencing any other symptoms like nausea, vomiting, fever, stiff neck, or vision changes? \\n* **Triggers:** Have you noticed any patterns or triggers that seem to bring on your headaches, such as stress, certain foods, or lack of sleep?\\n\\n**Here are some general tips that may help alleviate a headache:**\\n\\n* **Rest in a quiet, dark room.**\\n* **Apply a cold compress or ice pack to your forehead or temples.**\\n* **Stay hydrated by drinking plenty of water.**\\n* **Over-the-counter pain relievers like ibuprofen or acetaminophen may provide relief.**\\n\\n**However, it's crucial to consult a doctor if:**\\n\\n* Your headache is severe or persistent.\\n* You have any concerning symptoms like fever, stiff neck, or vision changes.\\n* Over-the-counter pain relievers don't provide relief.\\n* You experience frequent or recurring headaches.\\n\\nA healthcare professional can properly diagnose the cause of your headache and recommend the most appropriate treatment. Remember, your health is important, and seeking professional advice is always the best course of action when you're experiencing any health concerns.\\n\", additional_kwargs={}, response_metadata={'token_usage': {'completion_tokens': 359, 'prompt_tokens': 81, 'total_tokens': 440, 'completion_time': 0.652727273, 'prompt_time': 0.002339593, 'queue_time': 0.012360256, 'total_time': 0.655066866}, 'model_name': 'gemma2-9b-it', 'system_fingerprint': 'fp_10c08bf97d', 'finish_reason': 'stop', 'logprobs': None}, id='run-dfcfd150-1f6f-4619-92b8-f26a4c1f6170-0', usage_metadata={'input_tokens': 81, 'output_tokens': 359, 'total_tokens': 440})"
            ]
          },
          "metadata": {},
          "execution_count": 10
        }
      ]
    },
    {
      "cell_type": "code",
      "source": [
        "from langchain_core.output_parsers import StrOutputParser\n",
        "\n",
        "parser = StrOutputParser()\n",
        "parser.invoke(result)"
      ],
      "metadata": {
        "colab": {
          "base_uri": "https://localhost:8080/",
          "height": 227
        },
        "id": "c_AxWaMI-tB3",
        "outputId": "bbda2967-20c8-4f00-fdf2-0671449a07c5"
      },
      "execution_count": 11,
      "outputs": [
        {
          "output_type": "execute_result",
          "data": {
            "text/plain": [
              "\"I understand you're having a headache, and I'm sorry to hear that. While I can offer some general information, I'm not a medical professional and can't diagnose or treat your headache. \\n\\nThere are many reasons why someone might experience a headache, ranging from mild dehydration to more serious underlying conditions. \\n\\n**Here are some things to consider:**\\n\\n* **Severity and Location:** Is the headache mild, moderate, or severe? Where is it located? \\n* **Duration:** How long has the headache been going on? \\n* **Other Symptoms:** Are you experiencing any other symptoms like nausea, vomiting, fever, stiff neck, or vision changes? \\n* **Triggers:** Have you noticed any patterns or triggers that seem to bring on your headaches, such as stress, certain foods, or lack of sleep?\\n\\n**Here are some general tips that may help alleviate a headache:**\\n\\n* **Rest in a quiet, dark room.**\\n* **Apply a cold compress or ice pack to your forehead or temples.**\\n* **Stay hydrated by drinking plenty of water.**\\n* **Over-the-counter pain relievers like ibuprofen or acetaminophen may provide relief.**\\n\\n**However, it's crucial to consult a doctor if:**\\n\\n* Your headache is severe or persistent.\\n* You have any concerning symptoms like fever, stiff neck, or vision changes.\\n* Over-the-counter pain relievers don't provide relief.\\n* You experience frequent or recurring headaches.\\n\\nA healthcare professional can properly diagnose the cause of your headache and recommend the most appropriate treatment. Remember, your health is important, and seeking professional advice is always the best course of action when you're experiencing any health concerns.\\n\""
            ],
            "application/vnd.google.colaboratory.intrinsic+json": {
              "type": "string"
            }
          },
          "metadata": {},
          "execution_count": 11
        }
      ]
    },
    {
      "cell_type": "code",
      "source": [
        "# using lcel, chain the components together\n",
        "\n",
        "chain = model | parser\n",
        "chain.invoke(messages)"
      ],
      "metadata": {
        "colab": {
          "base_uri": "https://localhost:8080/",
          "height": 227
        },
        "id": "miUKtfpX-8jY",
        "outputId": "aa53a87f-1f0a-43ef-d2a7-88127bd83330"
      },
      "execution_count": 12,
      "outputs": [
        {
          "output_type": "execute_result",
          "data": {
            "text/plain": [
              "\"I understand you're experiencing a headache, and I'm sorry to hear that. Headaches are very common, but they can be uncomfortable and sometimes even concerning.  \\n\\nI can offer some general information, but please remember, I am not a medical professional and can't diagnose or treat your headache. It's crucial to consult a doctor or other qualified healthcare provider for personalized advice and treatment.\\n\\n**Here are some things to consider:**\\n\\n* **Type of headache:**  Describe your headache - is it a throbbing pain, a sharp pain, a dull ache? Where is it located? Does anything make it better or worse?\\n* **Frequency and duration:** How often do you get headaches? How long do they usually last? \\n* **Other symptoms:** Are you experiencing any other symptoms like fever, nausea, vomiting, sensitivity to light or sound, stiff neck, or vision changes?\\n* **Possible triggers:** Have you noticed anything that might be triggering your headache, such as stress, lack of sleep, certain foods, or changes in weather?\\n\\n**In the meantime, here are some general tips that may help alleviate headache pain:**\\n\\n* **Rest in a quiet, dark room.**\\n* **Apply a cold compress or ice pack to your forehead or temples.**\\n* **Stay hydrated by drinking plenty of water.**\\n* **Over-the-counter pain relievers:** Acetaminophen (Tylenol) or ibuprofen (Advil, Motrin) may be helpful for some types of headaches. \\n* **Avoid caffeine and alcohol.**\\n\\n**When to seek immediate medical attention:**\\n\\n* **Sudden, severe headache unlike any you've experienced before.**\\n* **Headache accompanied by fever, stiff neck, confusion, seizures, numbness, or weakness.**\\n* **Headache that worsens or doesn't improve with over-the-counter pain relievers.**\\n\\nRemember, your health is important. Don't hesitate to reach out to a healthcare professional for proper diagnosis and treatment.  They can help determine the cause of your headache and recommend the best course of action for you.\\n\""
            ],
            "application/vnd.google.colaboratory.intrinsic+json": {
              "type": "string"
            }
          },
          "metadata": {},
          "execution_count": 12
        }
      ]
    },
    {
      "cell_type": "code",
      "source": [
        "# from template, 2nd way of doing the prompt\n",
        "\n",
        "from langchain.prompts import ChatPromptTemplate\n",
        "\n",
        "prompt = ChatPromptTemplate.from_messages([\n",
        "    (\"system\", \"You are a helpful and knowledgeable healthcare assistant. You provide information and support for health-related concerns. You offer insights, suggestions, and potential considerations, empowering users to make informed decisions about their well-being. Emphasize the importance of seeking guidance from qualified healthcare professionals for personalized advice and treatment.\"),\n",
        "    (\"user\", \"{user_input}\")\n",
        "])\n"
      ],
      "metadata": {
        "id": "nsj3yYqu_PHk"
      },
      "execution_count": 13,
      "outputs": []
    },
    {
      "cell_type": "code",
      "source": [
        "result = chain.invoke(prompt.format_prompt(user_input=\"I'm having a headache, could you please help me?\").to_messages())\n",
        "result"
      ],
      "metadata": {
        "colab": {
          "base_uri": "https://localhost:8080/",
          "height": 227
        },
        "id": "yjJVT6lC_pIV",
        "outputId": "3e786f8a-5fbe-4efe-9e2f-4a0ab18e0a25"
      },
      "execution_count": 14,
      "outputs": [
        {
          "output_type": "execute_result",
          "data": {
            "text/plain": [
              "\"I understand you're experiencing a headache, I'm sorry to hear that! I can offer some general information, but remember, I'm not a medical professional and can't diagnose or treat your headache. \\n\\n**Here are some things to consider:**\\n\\n* **Type of headache:** \\n\\nIs it a throbbing pain, a dull ache, a sharp pain, or something else?  Where is the pain located?\\n\\n* **Severity:** \\n\\nOn a scale of 1 to 10, how intense is the pain?\\n\\n* **Duration:** \\n\\nHow long has the headache been going on? Is it a recurring issue?\\n\\n* **Triggers:** \\n\\nHave you noticed anything that might be causing your headache, like stress, certain foods, lack of sleep, or bright lights?\\n\\n* **Other symptoms:** \\n\\nAre you experiencing any other symptoms along with the headache, such as nausea, vomiting, fever, stiff neck, or vision changes?\\n\\n**Here are some general tips that may help relieve headache pain:**\\n\\n* **Rest in a quiet, dark room.**\\n* **Apply a cold compress or ice pack to your forehead or temples.**\\n* **Stay hydrated by drinking plenty of water.**\\n* **Over-the-counter pain relievers** like ibuprofen or acetaminophen may provide relief.\\n\\n**When to see a doctor:**\\n\\nIt's important to seek medical attention if your headache is:\\n\\n* Severe or sudden\\n* Accompanied by fever, stiff neck, confusion, or seizures\\n* Persistent or worsening\\n* Different from your usual headaches\\n\\nA doctor can help determine the underlying cause of your headache and recommend the best course of treatment. \\n\\nRemember, I'm here to provide information, but I can't replace the expertise of a healthcare professional.  Please reach out to your doctor or other qualified healthcare provider for personalized advice and treatment.\\n\""
            ],
            "application/vnd.google.colaboratory.intrinsic+json": {
              "type": "string"
            }
          },
          "metadata": {},
          "execution_count": 14
        }
      ]
    },
    {
      "cell_type": "code",
      "source": [
        "from langchain.schema import ChatMessage # Import ChatMessage\n",
        "\n",
        "result_message = ChatMessage(\n",
        "    content=result,\n",
        "    role=\"assistant\"  # Specify the role as needed\n",
        ")"
      ],
      "metadata": {
        "id": "uo944FyMCzbt"
      },
      "execution_count": 16,
      "outputs": []
    },
    {
      "cell_type": "code",
      "source": [
        "# chain the components together, prompt, model and parser\n",
        "\n",
        "chain = prompt | model | parser"
      ],
      "metadata": {
        "id": "bsrtGXBX_3oY"
      },
      "execution_count": 17,
      "outputs": []
    },
    {
      "cell_type": "code",
      "source": [
        "chain.invoke(\"I'm having a headache, could you please help me?\")"
      ],
      "metadata": {
        "colab": {
          "base_uri": "https://localhost:8080/",
          "height": 227
        },
        "id": "e-ObXQE1ALLv",
        "outputId": "91770222-2abf-4afa-b99e-a007bc000151"
      },
      "execution_count": 18,
      "outputs": [
        {
          "output_type": "execute_result",
          "data": {
            "text/plain": [
              "\"I'm sorry to hear you're having a headache. I understand how debilitating they can be. I can offer some general information, but remember, I'm not a medical professional and this isn't a substitute for seeing a doctor. \\n\\nTo help me understand better, could you tell me a little more about your headache? For example:\\n\\n* **Where is the pain located?** \\n* **What kind of pain is it? (Throbbing, sharp, dull, etc.)**\\n* **How severe is the pain on a scale of 1 to 10?**\\n* **How long have you had the headache?**\\n* **Are there any other symptoms you're experiencing? (Nausea, vomiting, sensitivity to light or sound, etc.)**\\n\\nBased on your answers, I might be able to suggest some general self-care tips, like resting in a quiet, dark room, applying a cold compress, or trying over-the-counter pain relievers. \\n\\n**However, it's crucial to see a doctor if:**\\n\\n* **Your headache is severe or sudden.**\\n* **You have a fever, stiff neck, or confusion along with the headache.**\\n* **The headache doesn't improve with over-the-counter pain relievers.**\\n* **You experience frequent or persistent headaches.**\\n\\nA doctor can help determine the cause of your headache and recommend the most appropriate treatment. \\n\\nTake care and I hope you feel better soon!\\n\""
            ],
            "application/vnd.google.colaboratory.intrinsic+json": {
              "type": "string"
            }
          },
          "metadata": {},
          "execution_count": 18
        }
      ]
    },
    {
      "cell_type": "code",
      "source": [
        "chain.invoke(\"I'm having cold, could you please help me?\")"
      ],
      "metadata": {
        "colab": {
          "base_uri": "https://localhost:8080/",
          "height": 227
        },
        "id": "lnMNWTp2DI8q",
        "outputId": "8c48e707-1788-4bbd-8f0a-73feb3ed2999"
      },
      "execution_count": 19,
      "outputs": [
        {
          "output_type": "execute_result",
          "data": {
            "text/plain": [
              "\"I'm sorry to hear you're not feeling well! While I can offer some general information about colds, remember I'm not a doctor and can't provide medical advice. \\n\\n**Here are some common tips for managing cold symptoms:**\\n\\n* **Rest:**  Your body needs energy to fight the virus. \\n* **Hydrate:** Drink plenty of fluids like water, broth, or herbal tea to stay hydrated and thin mucus.\\n* **Soothe your throat:** Gargle with warm salt water or suck on lozenges.\\n* **Relieve congestion:** Use a humidifier or take a hot shower to loosen mucus. Saline nasal sprays can also help.\\n* **Over-the-counter relief:** Pain relievers like ibuprofen or acetaminophen can help with fever and aches. Decongestants and cough suppressants might offer temporary relief, but talk to your pharmacist about the best options for you.\\n\\n**When to see a doctor:**\\n\\nIt's important to see a doctor if your cold symptoms are severe or last longer than 10 days.  \\n\\n**Here are some signs that you should seek medical attention:**\\n\\n* High fever that doesn't come down with medication\\n* Difficulty breathing or shortness of breath\\n* Severe chest pain or pressure\\n* Confusion or disorientation\\n*  Symptoms that worsen after initial improvement\\n\\nRemember, a healthcare professional can properly diagnose your condition and recommend the best course of treatment. \\n\\n**Take care and feel better soon!** \\n\\n\""
            ],
            "application/vnd.google.colaboratory.intrinsic+json": {
              "type": "string"
            }
          },
          "metadata": {},
          "execution_count": 19
        }
      ]
    }
  ]
}